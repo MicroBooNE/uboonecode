{
 "cells": [
  {
   "cell_type": "code",
   "execution_count": null,
   "metadata": {
    "collapsed": false
   },
   "outputs": [],
   "source": [
    "%matplotlib inline\n",
    "#%pylab\n",
    "import matplotlib\n",
    "import matplotlib.pyplot as plt\n",
    "import matplotlib.colors as mpc\n",
    "from mpl_toolkits.mplot3d import Axes3D\n",
    "import numpy as np\n",
    "\n",
    "import scipy\n",
    "from scipy import interpolate\n",
    "import pandas as pd\n",
    "import itertools\n",
    "from root_numpy import root2array, root2rec, tree2rec, array2root\n",
    "from ROOT import TChain"
   ]
  },
  {
   "cell_type": "code",
   "execution_count": null,
   "metadata": {
    "collapsed": true
   },
   "outputs": [],
   "source": [
    "def open_df(fname,treename=\"flashtrigger/opflash_opflash_tree\",start=None,stop=None):\n",
    "    return pd.DataFrame( root2array(fname, treename,start=start,stop=stop) )"
   ]
  },
  {
   "cell_type": "code",
   "execution_count": null,
   "metadata": {
    "collapsed": false
   },
   "outputs": [],
   "source": [
    "#\n",
    "# Data loading\n",
    "#\n",
    "df_bnb = open_df('flash_trigger_ana/bnb.root').query('0<dt and dt<1.6')\n",
    "\n"
   ]
  },
  {
   "cell_type": "code",
   "execution_count": null,
   "metadata": {
    "collapsed": false,
    "scrolled": false
   },
   "outputs": [],
   "source": [
    "fig, ax = plt.subplots(figsize=(12, 8))\n",
    "\n",
    "interval = 10.\n",
    "eff1_v=[]\n",
    "eff1_err_v=[]\n",
    "eff2_v=[]\n",
    "eff2_err_v=[]\n",
    "x_err_v=[]\n",
    "for x in xrange(25):\n",
    "    xmin=x*interval\n",
    "    xmax=(x+1)*interval\n",
    "    x_err_v.append(interval/2.)\n",
    "    cut_str = '%g < nu_mc_x and nu_mc_x < %g' % (xmin,xmax)\n",
    "    \n",
    "    total = float(len(df_bnb.query(cut_str).groupby(['run','subrun','event'])))    \n",
    "    sel = float(len(df_bnb.query('%s and pe_total>50' % cut_str).groupby(['run','subrun','event'])))\n",
    "    eff1_v.append(sel/total)\n",
    "    eff1_err_v.append(np.sqrt(sel*(1-sel/total))/total)\n",
    "    \n",
    "    sel = float(len(df_bnb.query('%s and pe_total>2' % cut_str).groupby(['run','subrun','event'])))\n",
    "    eff2_v.append(sel/total)\n",
    "    eff2_err_v.append(np.sqrt(sel*(1-sel/total))/total)\n",
    "   \n",
    "plt.errorbar(np.arange(5,255,10),eff2_v,yerr=eff2_err_v,xerr=x_err_v,\n",
    "             label='Cut > 2 P.E.',color='red',marker='o')\n",
    "plt.errorbar(np.arange(5,255,10),eff1_v,yerr=eff1_err_v,xerr=x_err_v,\n",
    "             label='Cut > 50 P.E.',color='blue',marker='o')\n",
    "\n",
    "ax.legend(loc=3,prop={'size':20})\n",
    "plt.ylim(0.5,1.05)\n",
    "plt.xlim(0,250)\n",
    "plt.xlabel('X [cm]',fontsize=20)\n",
    "plt.ylabel('Efficiency',fontsize=20)\n",
    "plt.tick_params(labelsize=20)\n",
    "plt.grid()\n",
    "plt.title('OpFlash Efficiency Distribution (MCC 6.1 BNB)',fontsize=20)\n",
    "plt.show()"
   ]
  },
  {
   "cell_type": "code",
   "execution_count": null,
   "metadata": {
    "collapsed": false,
    "scrolled": false
   },
   "outputs": [],
   "source": [
    "#\n",
    "# X-Y distribution of efficiency\n",
    "#\n",
    "df_bnb_low  = df_bnb.query('pe_total>2')\n",
    "df_bnb_high = df_bnb.query('pe_total>50')\n",
    "\n",
    "nbinsx = 25\n",
    "nbinsz = 50\n",
    "\n",
    "h2d_low,xbins_low,ybins_low = np.histogram2d(df_bnb_low['nu_mc_x'].ravel(),df_bnb_low['nu_mc_z'].ravel(),\n",
    "                                             bins=(nbinsx,nbinsz),range=((0,250),(0,1030)))\n",
    "\n",
    "h2d_high,xbins_high,ybins_high = np.histogram2d(df_bnb_high['nu_mc_x'].ravel(),df_bnb_high['nu_mc_z'].ravel(),\n",
    "                                                 bins=(nbinsx,nbinsz),range=((0,250),(0,1030)))\n",
    "\n",
    "efficiency = h2d_high / h2d_low\n",
    "\n",
    "fig, ax = plt.subplots(figsize=(12, 8))\n",
    "\n",
    "# Let mpl figure out histograming (alternative: numpy.histogram2d)\n",
    "#data, xbins, ybins, im = ax.hist2d(x,y,bins=(100,100),range=(range1,range2),norm = mpc.LogNorm())\n",
    "\n",
    "#Configure color bar\n",
    "#im.cmap.set_under('none')\n",
    "#cbar = fig.colorbar(im)\n",
    "#cbar.set_label(\"Selected Shower Counts\")\n",
    "\n",
    "# Manupulate axis through pyplot as I haven't figured out how-to from Axes to set fontsize\n",
    "plt.xlabel('Z [cm]',fontsize=20)\n",
    "plt.ylabel('X [cm]',fontsize=20)\n",
    "plt.title('BNB (MCC 6.1) 50 > P.E. Cut Efficiency Z vs. X',fontsize=20)\n",
    "ax.tick_params(labelsize=20)\n",
    "plt.imshow(efficiency,extent=[0,1030,250,0], interpolation='nearest',aspect=2)   \n",
    "cbar=plt.colorbar(shrink=0.6,ticks=[0,0.5,1])\n",
    "cbar.ax.tick_params(labelsize=15)\n",
    "cbar.ax.set_ylabel('Efficiency', fontsize=20)\n",
    "# Visualize\n",
    "plt.tight_layout()\n",
    "ax.tick_params(labelsize=15)\n",
    "plt.show()\n"
   ]
  },
  {
   "cell_type": "code",
   "execution_count": null,
   "metadata": {
    "collapsed": true
   },
   "outputs": [],
   "source": []
  }
 ],
 "metadata": {
  "kernelspec": {
   "display_name": "Python 2",
   "language": "python",
   "name": "python2"
  },
  "language_info": {
   "codemirror_mode": {
    "name": "ipython",
    "version": 2
   },
   "file_extension": ".py",
   "mimetype": "text/x-python",
   "name": "python",
   "nbconvert_exporter": "python",
   "pygments_lexer": "ipython2",
   "version": "2.7.6"
  }
 },
 "nbformat": 4,
 "nbformat_minor": 0
}
