{
 "cells": [
  {
   "cell_type": "code",
   "execution_count": null,
   "metadata": {
    "collapsed": false
   },
   "outputs": [],
   "source": [
    "%matplotlib inline\n",
    "#%pylab\n",
    "import matplotlib\n",
    "import matplotlib.pyplot as plt\n",
    "import matplotlib.colors as mpc\n",
    "from mpl_toolkits.mplot3d import Axes3D\n",
    "import numpy as np\n",
    "\n",
    "import scipy\n",
    "from scipy import interpolate\n",
    "import pandas as pd\n",
    "import itertools\n",
    "from root_numpy import root2array, root2rec, tree2rec, array2root\n",
    "from ROOT import TChain"
   ]
  },
  {
   "cell_type": "code",
   "execution_count": null,
   "metadata": {
    "collapsed": true
   },
   "outputs": [],
   "source": [
    "def open_df(fname,treename=\"flashtrigger/opflash_opflash_tree\",start=None,stop=None):\n",
    "    return pd.DataFrame( root2array(fname, treename,start=start,stop=stop) )"
   ]
  },
  {
   "cell_type": "code",
   "execution_count": null,
   "metadata": {
    "collapsed": false
   },
   "outputs": [],
   "source": [
    "#\n",
    "# Data loading\n",
    "#\n",
    "rate=5\n",
    "minutes=0\n",
    "hour=0\n",
    "day=1\n",
    "\n",
    "#num_cosmic = 5*60*(minutes+hour*60+day*60*24)\n",
    "#num_bnb = int(num_cosmic/670)+1\n",
    "\n",
    "#print 'need',num_cosmic,'cosmic'\n",
    "#print 'need',num_bnb,'bnb'\n",
    "\n",
    "df_mc_cosmic = open_df('flash_trigger_ana/cosmic.root').query('100<dt and dt<3200')\n",
    "df_data_cosmic = open_df('flash_trigger_ana/data_cosmic.root').query('100<dt and dt<3200')\n",
    "#df_bnb = open_df('flash_trigger_ana/bnb.root').query('0<dt and dt<1.6')\n",
    "\n"
   ]
  },
  {
   "cell_type": "code",
   "execution_count": null,
   "metadata": {
    "collapsed": false
   },
   "outputs": [],
   "source": [
    "fig, ax = plt.subplots(figsize=(12, 8))\n",
    "\n",
    "#ax.set_yscale('log')\n",
    "#plt.figure(figsize=(12,8))\n",
    "#plt.yscale('log')\n",
    "\n",
    "data_cosmic_high = df_data_cosmic.query('pe_total<2000')\n",
    "mc_cosmic_high = df_mc_cosmic.query('pe_total<2000')\n",
    "bnb_high = df_bnb.query('pe_total<2000')\n",
    "\n",
    "weights_data_cosmic = [1./len(data_cosmic_high)] * len(data_cosmic_high)\n",
    "weights_mc_cosmic = [1./len(mc_cosmic_high)] * len(mc_cosmic_high)\n",
    "weights_bnb = [1./len(bnb_high)] * len(bnb_high)\n",
    "\n",
    "plt.hist(bnb_high['pe_total'].ravel(),\n",
    "        bins=100,range=(0,2000),weights=weights_bnb,\n",
    "        label='MCC 6.1 BNB',alpha=0.5,color='magenta')\n",
    "plt.hist(mc_cosmic_high['pe_total'].ravel(),\n",
    "        bins=100,range=(0,2000),weights=weights_mc_cosmic,\n",
    "        label='MCC 6.1 Cosmics',alpha=1.0,color='cyan')\n",
    "plt.hist(data_cosmic_high['pe_total'].ravel(),\n",
    "        bins=100,range=(0,2000),weights=weights_data_cosmic,\n",
    "        label='Data Cosmics (Run 2377)',alpha=0.8,color='blue')\n",
    "ax.legend(prop={'size':20})\n",
    "plt.ylim(0,0.03)\n",
    "plt.xlabel('OpFlash Photo-Electron Counts',fontsize=20)\n",
    "plt.ylabel('OpFlash Fraction',fontsize=20)\n",
    "plt.tick_params(labelsize=20)\n",
    "plt.grid()\n",
    "plt.title('OpFlash Photo-Electron Distribution (Area Normalized)',fontsize=20)\n",
    "plt.show()"
   ]
  },
  {
   "cell_type": "code",
   "execution_count": null,
   "metadata": {
    "collapsed": false
   },
   "outputs": [],
   "source": [
    "fig, ax = plt.subplots(figsize=(12, 8))\n",
    "\n",
    "#ax.set_yscale('log')\n",
    "#plt.figure(figsize=(12,8))\n",
    "#plt.yscale('log')\n",
    "\n",
    "data_cosmic_low = df_data_cosmic.query('pe_total<500')\n",
    "mc_cosmic_low = df_mc_cosmic.query('pe_total<500')\n",
    "bnb_low = df_bnb.query('pe_total<500')\n",
    "\n",
    "weights_data_cosmic = [1./len(data_cosmic_low)] * len(data_cosmic_low)\n",
    "weights_mc_cosmic = [1./len(mc_cosmic_low)] * len(mc_cosmic_low)\n",
    "weights_bnb = [1./len(bnb_low)] * len(bnb_low)\n",
    "\n",
    "plt.hist(bnb_low['pe_total'].ravel(),\n",
    "        bins=100,range=(0,500),weights=weights_bnb,\n",
    "        label='MCC 6.1 BNB',alpha=0.5,color='magenta')\n",
    "plt.hist(mc_cosmic_low['pe_total'].ravel(),\n",
    "        bins=100,range=(0,500),weights=weights_mc_cosmic,\n",
    "        label='MCC 6.1 Cosmics',alpha=1.0,color='cyan')\n",
    "plt.hist(data_cosmic_low['pe_total'].ravel(),\n",
    "        bins=100,range=(0,500),weights=weights_data_cosmic,\n",
    "        label='Data Cosmics (Run 2377)',alpha=0.8,color='blue')\n",
    "ax.legend(prop={'size':20})\n",
    "plt.ylim(0,0.03)\n",
    "plt.xlabel('OpFlash Photo-Electron Counts',fontsize=20)\n",
    "plt.ylabel('OpFlash Fraction',fontsize=20)\n",
    "plt.tick_params(labelsize=20)\n",
    "plt.grid()\n",
    "plt.title('OpFlash Photo-Electron Distribution (Area Normalized)',fontsize=20)\n",
    "plt.show()"
   ]
  },
  {
   "cell_type": "code",
   "execution_count": null,
   "metadata": {
    "collapsed": false
   },
   "outputs": [],
   "source": [
    "fig, ax = plt.subplots(figsize=(12, 8))\n",
    "\n",
    "#ax.set_yscale('log')\n",
    "#plt.figure(figsize=(12,8))\n",
    "#plt.yscale('log')\n",
    "\n",
    "data_nevents = len(df_data_cosmic.groupby(['run','subrun','event']))\n",
    "mc_nevents = len(df_mc_cosmic.groupby(['run','subrun','event']))\n",
    "\n",
    "if mc_nevents < data_nevents: raise Exception\n",
    "    \n",
    "weights_mc_cosmic = [float(data_nevents) / float(mc_nevents)] * len(df_mc_cosmic)\n",
    "\n",
    "plt.hist(df_data_cosmic['pe_total'].ravel(),\n",
    "        bins=100,range=(0,5000),\n",
    "        label='Data Cosmics (Run 2377)',alpha=1.0,color='blue')\n",
    "plt.hist(df_mc_cosmic['pe_total'].ravel(),\n",
    "        bins=100,range=(0,5000),weights=weights_mc_cosmic,\n",
    "        label='MCC 6.1 Cosmics',alpha=0.8,color='red')\n",
    "ax.legend(prop={'size':20})\n",
    "plt.ylim(1,40000)\n",
    "plt.xlabel('OpFlash Photo-Electron Counts',fontsize=20)\n",
    "plt.ylabel('OpFlash Fraction',fontsize=20)\n",
    "plt.tick_params(labelsize=20)\n",
    "plt.grid()\n",
    "plt.title('OpFlash Photo-Electron Distribution',fontsize=20)\n",
    "plt.show()"
   ]
  },
  {
   "cell_type": "code",
   "execution_count": null,
   "metadata": {
    "collapsed": false
   },
   "outputs": [],
   "source": [
    "fig, ax = plt.subplots(figsize=(12, 8))\n",
    "\n",
    "#ax.set_yscale('log')\n",
    "#plt.figure(figsize=(12,8))\n",
    "#plt.yscale('log')\n",
    "\n",
    "data_nevents = len(df_data_cosmic.groupby(['run','subrun','event']))\n",
    "mc_nevents = len(df_mc_cosmic.groupby(['run','subrun','event']))\n",
    "\n",
    "if mc_nevents < data_nevents: raise Exception\n",
    "    \n",
    "weights_mc_cosmic = [float(data_nevents) / float(mc_nevents)] * len(df_mc_cosmic)\n",
    "\n",
    "mc_mod = df_mc_cosmic['pe_total'].ravel()\n",
    "mc_mod *= 1.55\n",
    "\n",
    "plt.hist(df_data_cosmic['pe_total'].ravel(),\n",
    "        bins=100,range=(0,5000),\n",
    "        label='Data Cosmics (Run 2377)',alpha=1.0,color='blue')\n",
    "plt.hist(mc_mod,\n",
    "        bins=100,range=(0,5000),weights=weights_mc_cosmic,\n",
    "        label='MCC 6.1 Cosmics (1.55 PE scale factor)',alpha=0.8,color='red')\n",
    "ax.legend(prop={'size':20})\n",
    "plt.ylim(0,40000)\n",
    "plt.xlabel('OpFlash Photo-Electron Counts',fontsize=20)\n",
    "plt.ylabel('OpFlash Fraction',fontsize=20)\n",
    "plt.tick_params(labelsize=20)\n",
    "plt.grid()\n",
    "plt.title('OpFlash Photo-Electron Distribution',fontsize=20)\n",
    "plt.show()"
   ]
  },
  {
   "cell_type": "code",
   "execution_count": null,
   "metadata": {
    "collapsed": true
   },
   "outputs": [],
   "source": []
  }
 ],
 "metadata": {
  "kernelspec": {
   "display_name": "Python 2",
   "language": "python",
   "name": "python2"
  },
  "language_info": {
   "codemirror_mode": {
    "name": "ipython",
    "version": 2
   },
   "file_extension": ".py",
   "mimetype": "text/x-python",
   "name": "python",
   "nbconvert_exporter": "python",
   "pygments_lexer": "ipython2",
   "version": "2.7.6"
  }
 },
 "nbformat": 4,
 "nbformat_minor": 0
}
