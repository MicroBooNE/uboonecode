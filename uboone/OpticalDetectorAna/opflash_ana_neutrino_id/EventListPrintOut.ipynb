{
 "cells": [
  {
   "cell_type": "code",
   "execution_count": null,
   "metadata": {
    "collapsed": false
   },
   "outputs": [],
   "source": [
    "%matplotlib inline\n",
    "#%pylab\n",
    "import matplotlib\n",
    "import matplotlib.pyplot as plt\n",
    "import matplotlib.colors as mpc\n",
    "from mpl_toolkits.mplot3d import Axes3D\n",
    "import numpy as np\n",
    "\n",
    "import scipy\n",
    "from scipy import interpolate\n",
    "import pandas as pd\n",
    "import itertools\n",
    "from root_numpy import root2array, root2rec, tree2rec, array2root\n",
    "from ROOT import TChain"
   ]
  },
  {
   "cell_type": "code",
   "execution_count": null,
   "metadata": {
    "collapsed": true
   },
   "outputs": [],
   "source": [
    "def open_df(fname,treename=\"flashtrigger/opflash_opflash_tree\"):\n",
    "    return pd.DataFrame( root2array(fname, treename) )"
   ]
  },
  {
   "cell_type": "code",
   "execution_count": null,
   "metadata": {
    "collapsed": false
   },
   "outputs": [],
   "source": [
    "#\n",
    "# Data loading\n",
    "#\n",
    "df1 = open_df('flash_trigger_ana/cosmic.root')\n",
    "df2 = open_df('flash_trigger_ana/data_cosmic.root')\n",
    "df3 = open_df('flash_trigger_ana/bnb.root')\n",
    "\n",
    "fout=open('cosmic_mc_event_list.txt','w')\n",
    "for key,df in df1.groupby(['run','subrun','event']):\n",
    "    fout.write('%-4d %-4d %-8d\\n' % key)\n",
    "fout.close()\n",
    "\n",
    "fout=open('cosmic_data_event_list.txt','w')\n",
    "for key,df in df2.groupby(['run','subrun','event']):\n",
    "    fout.write('%-4d %-4d %-8d\\n' % key)\n",
    "fout.close()\n",
    "\n",
    "fout=open('bnb_mc_event_list.txt','w')\n",
    "for key,df in df3.groupby(['run','subrun','event']):\n",
    "    fout.write('%-4d %-4d %-8d\\n' % key)\n",
    "fout.close()\n",
    "\n",
    "\n"
   ]
  },
  {
   "cell_type": "code",
   "execution_count": null,
   "metadata": {
    "collapsed": true
   },
   "outputs": [],
   "source": []
  }
 ],
 "metadata": {
  "kernelspec": {
   "display_name": "Python 2",
   "language": "python",
   "name": "python2"
  },
  "language_info": {
   "codemirror_mode": {
    "name": "ipython",
    "version": 2
   },
   "file_extension": ".py",
   "mimetype": "text/x-python",
   "name": "python",
   "nbconvert_exporter": "python",
   "pygments_lexer": "ipython2",
   "version": "2.7.6"
  }
 },
 "nbformat": 4,
 "nbformat_minor": 0
}
