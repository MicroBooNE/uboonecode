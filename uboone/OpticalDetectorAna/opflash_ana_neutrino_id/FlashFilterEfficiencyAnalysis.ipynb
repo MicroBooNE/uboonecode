{
 "cells": [
  {
   "cell_type": "code",
   "execution_count": null,
   "metadata": {
    "collapsed": false
   },
   "outputs": [],
   "source": [
    "%matplotlib inline\n",
    "#%pylab\n",
    "import matplotlib\n",
    "import matplotlib.pyplot as plt\n",
    "import matplotlib.colors as mpc\n",
    "from mpl_toolkits.mplot3d import Axes3D\n",
    "import numpy as np\n",
    "\n",
    "import scipy\n",
    "from scipy import interpolate\n",
    "import pandas as pd\n",
    "import itertools\n",
    "from root_numpy import root2array, root2rec, tree2rec, array2root\n",
    "from ROOT import TChain"
   ]
  },
  {
   "cell_type": "code",
   "execution_count": null,
   "metadata": {
    "collapsed": true
   },
   "outputs": [],
   "source": [
    "def open_df(fname,treename=\"flashtrigger/opflash_opflash_tree\"):\n",
    "    return pd.DataFrame( root2array(fname, treename) )"
   ]
  },
  {
   "cell_type": "code",
   "execution_count": null,
   "metadata": {
    "collapsed": true
   },
   "outputs": [],
   "source": [
    "def get_eff(df,param,xmin,xmax,interval,total):\n",
    "    if total <= 0:\n",
    "        print 'Cannot calculate efficiency w/o total <= 0!'\n",
    "        raise Exception\n",
    "    underflow = float(len(df.query('%s <=0' % param).groupby(['run','subrun','event'])))\n",
    "    xaxis = np.arange(xmin,xmax,interval)\n",
    "    eff = np.zeros(len(xaxis))\n",
    "    for index in xrange(len(xaxis)):\n",
    "        cut_value = xaxis[index]\n",
    "        ctr = 0\n",
    "        ctr = underflow + float(len(df.query('%s > %g' % (param,cut_value)).groupby(['run','subrun','event'])))\n",
    "        eff[index] = ctr / total\n",
    "        print cut_value,ctr,total,eff[index]\n",
    "\n",
    "    return (xaxis,eff)"
   ]
  },
  {
   "cell_type": "code",
   "execution_count": null,
   "metadata": {
    "collapsed": false
   },
   "outputs": [],
   "source": [
    "#\n",
    "# Data loading\n",
    "#\n",
    "df1 = open_df('flash_trigger_ana/cosmic.root')\n",
    "df2 = open_df('flash_trigger_ana/data_cosmic.root')\n",
    "#df3 = open_df('flash_trigger_ana/bnb.root')\n",
    "#df_v = [df1,df2,df3]\n",
    "df_v = [df1,df2]\n",
    "label_v = ['MCC 6.1 Cosmics','Data Cosmics (Run 2377)']\n",
    "#df_v = [df3]\n",
    "colors = ['blue','red','magenta']"
   ]
  },
  {
   "cell_type": "code",
   "execution_count": null,
   "metadata": {
    "collapsed": false,
    "scrolled": false
   },
   "outputs": [],
   "source": [
    "cand_df_v=[]\n",
    "for i in xrange(len(df_v)):\n",
    "    cand_df_v.append(df_v[i].query('100<dt and dt<101.6'))\n",
    "    print '1.6us window event fraction:', \n",
    "    print len(cand_df_v[-1].groupby(['run','subrun','event'])),\n",
    "    print '/',\n",
    "    print len(df_v[i].groupby(['run','subrun','event']))\n",
    "param='pe_total'\n",
    "xmin,xmax,interval = (0,1000,5)\n",
    "\n",
    "eff_v=[]\n",
    "xaxis_v=[]\n",
    "ymin=2\n",
    "ymax=0\n",
    "for i in xrange(len(cand_df_v)):\n",
    "    total = len(df_v[i].groupby(['run','subrun','event']))\n",
    "    xaxis,eff = get_eff(cand_df_v[i],param,xmin,xmax,interval,total)\n",
    "    if eff.max() > ymax: ymax=eff.max()\n",
    "    if eff.min() < ymin: ymin=eff.min()\n",
    "    eff_v.append(eff)\n",
    "    xaxis_v.append(xaxis)\n",
    "    \n",
    "ybuf = (ymax - ymin) * 0.05\n",
    "ymax += ybuf\n",
    "ymin -= ybuf\n",
    "#ymax = 0.01\n",
    "#ymin = 0\n",
    "\n",
    "fig, ax = plt.subplots(figsize=(12, 8))\n",
    "#ax.set_yscale('log')\n",
    "\n",
    "plt.ylim(ymin,ymax)\n",
    "plt.xlim(xmin-interval*2,xmax+interval*2)\n",
    "for i in xrange(len(eff_v)):\n",
    "    ax.plot(xaxis_v[i], eff_v[i], marker='o', label=label_v[i],linestyle='--',color=colors[i])\n",
    "plt.xlabel('Cut Value [p.e.]',fontsize=20)\n",
    "plt.ylabel('Probability',fontsize=20)\n",
    "plt.tick_params(labelsize=20)\n",
    "plt.grid()\n",
    "plt.title('Total Photo-Electron (p.e.) Cut Selection Efficiency',fontsize=20)\n",
    "ax.legend(prop={'size':20})\n",
    "plt.show()\n",
    "\n",
    "if (xmax - xmin)/interval > 100:\n",
    "    fig, ax = plt.subplots(figsize=(12, 8))\n",
    "#    ax.set_yscale('log')\n",
    "\n",
    "    ymin = 2\n",
    "    ymax = 0\n",
    "    for eff in eff_v:\n",
    "        if eff[0:50].min() < ymin: ymin = eff[0:50].min()\n",
    "        if eff[0:50].max() > ymax: ymax = eff[0:50].max()\n",
    "    ybuf = (ymax - ymin) * 0.05\n",
    "    ymax += ybuf\n",
    "    ymin -= ybuf\n",
    "#    ymax = 0.01\n",
    "#    ymin = 0\n",
    "    plt.ylim(ymin,ymax)\n",
    "    plt.xlim(xmin,xmin + interval * 50)\n",
    "    for i in xrange(len(eff_v)):\n",
    "        ax.plot(xaxis_v[i], eff_v[i], marker='o',label=label_v[i], linestyle='--',color=colors[i])\n",
    "    plt.xlabel('Cut Value [p.e.]',fontsize=20)\n",
    "    plt.ylabel('Probability',fontsize=20)\n",
    "    plt.tick_params(labelsize=20)\n",
    "    plt.grid()\n",
    "    plt.title('Total Photo-Electron (p.e.) Cut Selection Efficiency',fontsize=20)\n",
    "    ax.legend(prop={'size':20})\n",
    "    plt.show()\n",
    "        \n",
    "#sg_of = len(df.query('%s > %g' % (param,xmax))) / float(total) * 100\n",
    "#sg_of = int(sg_of*1000.)/1000.\n",
    "        \n",
    "#print 'overflow',  sg_of,'[%]\n"
   ]
  },
  {
   "cell_type": "code",
   "execution_count": null,
   "metadata": {
    "collapsed": true
   },
   "outputs": [],
   "source": []
  }
 ],
 "metadata": {
  "kernelspec": {
   "display_name": "Python 2",
   "language": "python",
   "name": "python2"
  },
  "language_info": {
   "codemirror_mode": {
    "name": "ipython",
    "version": 2
   },
   "file_extension": ".py",
   "mimetype": "text/x-python",
   "name": "python",
   "nbconvert_exporter": "python",
   "pygments_lexer": "ipython2",
   "version": "2.7.6"
  }
 },
 "nbformat": 4,
 "nbformat_minor": 0
}
