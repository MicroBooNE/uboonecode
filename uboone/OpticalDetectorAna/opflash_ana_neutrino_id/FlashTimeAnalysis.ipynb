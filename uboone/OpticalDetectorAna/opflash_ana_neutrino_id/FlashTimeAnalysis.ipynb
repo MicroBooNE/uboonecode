{
 "cells": [
  {
   "cell_type": "code",
   "execution_count": null,
   "metadata": {
    "collapsed": false
   },
   "outputs": [],
   "source": [
    "%matplotlib inline\n",
    "#%pylab\n",
    "import matplotlib\n",
    "import matplotlib.pyplot as plt\n",
    "import matplotlib.colors as mpc\n",
    "from mpl_toolkits.mplot3d import Axes3D\n",
    "import numpy as np\n",
    "\n",
    "import scipy\n",
    "from scipy import interpolate\n",
    "import pandas as pd\n",
    "import itertools\n",
    "from root_numpy import root2array, root2rec, tree2rec, array2root\n",
    "from ROOT import TChain"
   ]
  },
  {
   "cell_type": "code",
   "execution_count": null,
   "metadata": {
    "collapsed": true
   },
   "outputs": [],
   "source": [
    "def open_df(fname,treename=\"flashtrigger/opflash_opflash_tree\",start=None,stop=None):\n",
    "    return pd.DataFrame( root2array(fname, treename,start=start,stop=stop) )"
   ]
  },
  {
   "cell_type": "code",
   "execution_count": null,
   "metadata": {
    "collapsed": false
   },
   "outputs": [],
   "source": [
    "#\n",
    "# Data loading\n",
    "#\n",
    "rate=5\n",
    "minutes=0\n",
    "hour=0\n",
    "day=1\n",
    "\n",
    "#num_cosmic = 5*60*(minutes+hour*60+day*60*24)\n",
    "#num_bnb = int(num_cosmic/670)+1\n",
    "\n",
    "#print 'need',num_cosmic,'cosmic'\n",
    "#print 'need',num_bnb,'bnb'\n",
    "\n",
    "\n",
    "# 2 hours\n",
    "cosmic_data_stop = 4076984\n",
    "cosmic_stop = 2623896\n",
    "bnb_stop = 108*20\n",
    "\n",
    "# 4 hours\n",
    "#cosmic_stop *= 2\n",
    "#bnb_stop *=2 \n",
    "\n",
    "# 8 hours\n",
    "#bnb_stop *=4\n",
    "\n",
    "# 12 hours\n",
    "#bnb_stop *=6\n",
    "\n",
    "# 24 hours\n",
    "#bnb_stop *= 12\n",
    "\n",
    "df_cosmic = open_df('flash_trigger_ana/data_cosmic.root',start=0,stop=cosmic_data_stop)\n",
    "df_bnb = open_df('flash_trigger_ana/bnb.root',start=0,stop=bnb_stop)\n"
   ]
  },
  {
   "cell_type": "code",
   "execution_count": null,
   "metadata": {
    "collapsed": false
   },
   "outputs": [],
   "source": [
    "print len(df_cosmic.groupby(['run','subrun','event'])),len(df_cosmic)\n",
    "print len(df_bnb.groupby(['run','subrun','event'])),len(df_cosmic)"
   ]
  },
  {
   "cell_type": "code",
   "execution_count": null,
   "metadata": {
    "collapsed": false,
    "scrolled": false
   },
   "outputs": [],
   "source": [
    "#\n",
    "# Flash Timing distribution \n",
    "#\n",
    "cosmic_cand = df_cosmic.query('pe_total>50')\n",
    "bnb_cand = df_bnb.query('pe_total>50')\n",
    "fig, ax = plt.subplots(figsize=(12, 8))\n",
    "cosmic_cand['dt'].hist(ax=ax,bins=200,color='blue')\n",
    "bnb_cand['dt'].hist(ax=ax,bins=200,color='red')\n",
    "plt.xlabel('Time w.r.t. Trigger [us]',fontsize=20)\n",
    "plt.ylabel('Flash Count',fontsize=20)\n",
    "plt.title('Flash Time Distribution',fontsize=20)\n",
    "ax.tick_params(labelsize=20)\n",
    "plt.show()\n",
    "\n",
    "cosmic_dt = cosmic_cand['dt'].ravel()\n",
    "bnb_dt = bnb_cand['dt'].ravel()\n",
    "\n",
    "kazu=[]\n",
    "for x in cosmic_dt:\n",
    "    x -= 100\n",
    "\n",
    "    # 24 hour case: need a factor of 12\n",
    "    if x < 0 or x > 2400: continue \n",
    "    # 12 hour case: need a factor of 6\n",
    "    #if x < 0 or x > 1200: continue\n",
    "    # 8 hour case: need a factor of 4\n",
    "    #if x < 0 or x > 800: continue\n",
    "    # 4 hour case: need a factor of 2\n",
    "    #if x < 0 or x > 400 : continue\n",
    "    while x > 200:\n",
    "        x -= 200\n",
    "    x -= 100\n",
    "    kazu.append(x)\n",
    "\n",
    "andy=[]\n",
    "for x in bnb_dt:\n",
    "    andy.append(x)\n",
    "\n",
    "cosmic_spec, cosmic_bins = np.histogram(kazu,bins=125,range=(-100,100))\n",
    "bnb_spec, bnb_bins = np.histogram(andy,bins=125,range=(-100,100))\n",
    "cosmic_err=[]\n",
    "for x in cosmic_spec:\n",
    "    cosmic_err = np.sqrt(x)\n",
    "    \n",
    "bnb_err=[]\n",
    "for x in cosmic_spec:\n",
    "    bnb_err = np.sqrt(x)\n",
    "    \n",
    "added_spec=[]\n",
    "added_err=[]\n",
    "ymax=0\n",
    "for x in xrange(len(bnb_spec)):\n",
    "    if x < 90 and x > 110:\n",
    "        print x, bnb_spec[x],cosmic_spec[x]\n",
    "    added_spec.append(bnb_spec[x]+cosmic_spec[x])\n",
    "    added_err = np.sqrt(added_spec[-1])\n",
    "    if ymax < added_spec[-1]: \n",
    "        ymax=added_spec[-1]\n",
    "\n",
    "plt.figure(figsize=(12,8))\n",
    "ymin = 0\n",
    "ybuf = (ymax - ymin) * 0.05\n",
    "ymax += ybuf\n",
    "ymin -= ybuf\n",
    "plt.figure(figsize=(12,8))\n",
    "plt.ylim(ymin,ymax)\n",
    "plt.xlim(-100,100)\n",
    "plt.errorbar(np.arange(-100,100,1.6), added_spec, yerr=added_err,marker='o', linestyle='',color='red')\n",
    "plt.xlabel('Time w.r.t. Trigger [us]',fontsize=20)\n",
    "plt.ylabel('Flash Count',fontsize=20)\n",
    "plt.tick_params(labelsize=20)\n",
    "plt.grid()\n",
    "plt.title('OpFlash (> 50 P.E.) Time Distribution',fontsize=20)\n",
    "plt.show()\n"
   ]
  },
  {
   "cell_type": "code",
   "execution_count": null,
   "metadata": {
    "collapsed": true
   },
   "outputs": [],
   "source": []
  }
 ],
 "metadata": {
  "kernelspec": {
   "display_name": "Python 2",
   "language": "python",
   "name": "python2"
  },
  "language_info": {
   "codemirror_mode": {
    "name": "ipython",
    "version": 2
   },
   "file_extension": ".py",
   "mimetype": "text/x-python",
   "name": "python",
   "nbconvert_exporter": "python",
   "pygments_lexer": "ipython2",
   "version": "2.7.6"
  }
 },
 "nbformat": 4,
 "nbformat_minor": 0
}
