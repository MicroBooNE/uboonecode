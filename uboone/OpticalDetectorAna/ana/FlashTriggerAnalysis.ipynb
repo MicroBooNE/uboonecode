{
 "cells": [
  {
   "cell_type": "code",
   "execution_count": null,
   "metadata": {
    "collapsed": false
   },
   "outputs": [],
   "source": [
    "%matplotlib inline\n",
    "#%pylab\n",
    "import matplotlib\n",
    "import matplotlib.pyplot as plt\n",
    "import matplotlib.colors as mpc\n",
    "from mpl_toolkits.mplot3d import Axes3D\n",
    "import numpy as np\n",
    "\n",
    "import scipy\n",
    "from scipy import interpolate\n",
    "import pandas as pd\n",
    "import itertools\n",
    "from root_numpy import root2array, root2rec, tree2rec, array2root\n",
    "from ROOT import TChain"
   ]
  },
  {
   "cell_type": "code",
   "execution_count": null,
   "metadata": {
    "collapsed": true
   },
   "outputs": [],
   "source": [
    "def open_df(fname,treename=\"flashtrigger/opflash_opflash_tree\"):\n",
    "    return pd.DataFrame( root2array(fname, treename) )"
   ]
  },
  {
   "cell_type": "code",
   "execution_count": null,
   "metadata": {
    "collapsed": true
   },
   "outputs": [],
   "source": [
    "def get_eff(df,param,xmin,xmax,interval,total):\n",
    "    if total <= 0:\n",
    "        print 'Cannot calculate efficiency w/o total <= 0!'\n",
    "        raise Exception\n",
    "    underflow = float(len(df.query('%s <=0' % param).groupby(['run','subrun','event'])))\n",
    "    xaxis = np.arange(xmin,xmax,interval)\n",
    "\n",
    "    eff = np.zeros(len(xaxis))\n",
    "    for index in xrange(len(xaxis)):\n",
    "        cut_value = xaxis[index]\n",
    "        ctr = 0\n",
    "        ctr = underflow + float(len(df.query('%s > %g' % (param,cut_value)).groupby(['run','subrun','event'])))\n",
    "        eff[index] = ctr / total\n",
    "\n",
    "    return (xaxis,eff)"
   ]
  },
  {
   "cell_type": "code",
   "execution_count": null,
   "metadata": {
    "collapsed": false
   },
   "outputs": [],
   "source": [
    "def plot_eff(df,param,xmin,xmax,interval,total):\n",
    "    \n",
    "    p='pe_total'\n",
    "    xmin=0\n",
    "    xmax=1000\n",
    "    interval=5\n",
    "    total=82875\n",
    "    \n",
    "    sg_xaxis,sg_eff = get_eff(df,p,xmin,xmax,interval,total)\n",
    "    #sn = np.zeros(len(sg_xaxis))\n",
    "    #for index in xrange(len(sn)):\n",
    "    #    sn[index] = np.sqrt(sg_eff[index]/(1.-bg_eff[index]))\n",
    "    #    print sg_xaxis[index],sg_eff[index],bg_eff[index],sn[index]\n",
    "    plt.figure(figsize=(12,8))\n",
    "    plt.ylim(-0.00,0.01)\n",
    "    plt.xlim(xmin-interval*2,xmax+interval*2)\n",
    "    plt.plot(sg_xaxis, sg_eff, marker='o', linestyle='--',color='blue')\n",
    "    #plt.plot(sg_xaxis, sn,     marker='o', linestyle='--',color='orange')\n",
    "    plt.xlabel('%s [p.e.]' % p,fontsize=20)\n",
    "    plt.ylabel('Efficiency',fontsize=20)\n",
    "    plt.tick_params(labelsize=20)\n",
    "    plt.grid()\n",
    "    plt.title('Total Photo-Electron (p.e.) Cut Selection Efficiency',fontsize=20)\n",
    "    plt.show()\n",
    "    \n",
    "    if (xmax - xmin)/interval > 100:\n",
    "        plt.figure(figsize=(12,8))\n",
    "        plt.ylim(-0.00,0.01)\n",
    "        plt.xlim(xmin,xmin + interval * 50)\n",
    "        plt.plot(sg_xaxis, sg_eff, marker='o', linestyle='--',color='blue')\n",
    "        #plt.plot(sg_xaxis, sn,     marker='o', linestyle='--',color='orange')\n",
    "        plt.xlabel('%s [p.e.]' % p,fontsize=20)\n",
    "        plt.ylabel('Efficiency',fontsize=20)\n",
    "        plt.tick_params(labelsize=20)\n",
    "        plt.grid()\n",
    "        plt.title('Total Photo-Electron (p.e.) Cut Selection Efficiency',fontsize=20)\n",
    "        plt.show()\n",
    "        \n",
    "    sg_of = len(df.query('%s > %g' % (p,xmax))) / float(total) * 100\n",
    "    sg_of = int(sg_of*1000.)/1000.\n",
    "        \n",
    "    print 'overflow',  sg_of,'[%]'"
   ]
  },
  {
   "cell_type": "code",
   "execution_count": null,
   "metadata": {
    "collapsed": true
   },
   "outputs": [],
   "source": [
    "#\n",
    "# Data loading\n",
    "#\n",
    "df = open_df('cosmic.root')"
   ]
  },
  {
   "cell_type": "code",
   "execution_count": null,
   "metadata": {
    "collapsed": false
   },
   "outputs": [],
   "source": [
    "#\n",
    "# Making efficiency plot as a function of PE cut\n",
    "#\n",
    "beam_candidates=df.query('-0.1<dt and dt<1.7')\n",
    "total = len(df.groupby(['run','subrun','event']))\n",
    "plot_eff(df=beam_candidates, param='pe_total', xmin=0, xmax=1000, interval=5, total=82875)\n"
   ]
  },
  {
   "cell_type": "code",
   "execution_count": null,
   "metadata": {
    "collapsed": false
   },
   "outputs": [],
   "source": [
    "#\n",
    "# Flash Timing distribution \n",
    "#\n",
    "t_cand = df.query('pe_total>50')\n",
    "fig, ax = plt.subplots(figsize=(12, 8))\n",
    "t_cand['dt'].hist(ax=ax,bins=200)\n",
    "plt.xlabel('Time w.r.t. Trigger [us]',fontsize=20)\n",
    "plt.ylabel('Flash Count',fontsize=20)\n",
    "plt.title('Flash Time Distribution',fontsize=20)\n",
    "ax.tick_params(labelsize=20)"
   ]
  },
  {
   "cell_type": "code",
   "execution_count": null,
   "metadata": {
    "collapsed": true
   },
   "outputs": [],
   "source": []
  }
 ],
 "metadata": {
  "kernelspec": {
   "display_name": "Python 2",
   "language": "python",
   "name": "python2"
  },
  "language_info": {
   "codemirror_mode": {
    "name": "ipython",
    "version": 2
   },
   "file_extension": ".py",
   "mimetype": "text/x-python",
   "name": "python",
   "nbconvert_exporter": "python",
   "pygments_lexer": "ipython2",
   "version": "2.7.6"
  }
 },
 "nbformat": 4,
 "nbformat_minor": 0
}
