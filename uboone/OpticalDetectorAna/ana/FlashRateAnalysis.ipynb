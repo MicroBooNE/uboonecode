{
 "cells": [
  {
   "cell_type": "code",
   "execution_count": null,
   "metadata": {
    "collapsed": false
   },
   "outputs": [],
   "source": [
    "%matplotlib inline\n",
    "#%pylab\n",
    "import matplotlib\n",
    "import matplotlib.pyplot as plt\n",
    "import matplotlib.colors as mpc\n",
    "from mpl_toolkits.mplot3d import Axes3D\n",
    "import numpy as np\n",
    "\n",
    "import scipy\n",
    "from scipy import interpolate\n",
    "import pandas as pd\n",
    "import itertools\n",
    "from root_numpy import root2array, root2rec, tree2rec, array2root\n",
    "from ROOT import TChain"
   ]
  },
  {
   "cell_type": "code",
   "execution_count": null,
   "metadata": {
    "collapsed": true
   },
   "outputs": [],
   "source": [
    "def open_df(fname,treename=\"flashtrigger/opflash_opflash_tree\",start=None,stop=None):\n",
    "    return pd.DataFrame( root2array(fname, treename,start=start,stop=stop) )"
   ]
  },
  {
   "cell_type": "code",
   "execution_count": null,
   "metadata": {
    "collapsed": false
   },
   "outputs": [],
   "source": [
    "#\n",
    "# Data loading\n",
    "#\n",
    "rate=5\n",
    "minutes=0\n",
    "hour=0\n",
    "day=1\n",
    "\n",
    "#num_cosmic = 5*60*(minutes+hour*60+day*60*24)\n",
    "#num_bnb = int(num_cosmic/670)+1\n",
    "\n",
    "#print 'need',num_cosmic,'cosmic'\n",
    "#print 'need',num_bnb,'bnb'\n",
    "\n",
    "df_mc_cosmic = open_df('flash_trigger_ana/cosmic.root')\n",
    "df_data_cosmic = open_df('flash_trigger_ana/data_cosmic.root')\n",
    "df_bnb = open_df('flash_trigger_ana/bnb.root')\n",
    "\n"
   ]
  },
  {
   "cell_type": "code",
   "execution_count": null,
   "metadata": {
    "collapsed": false
   },
   "outputs": [],
   "source": [
    "fig, ax = plt.subplots(figsize=(12, 8))\n",
    "#plt.ylim(ymin,ymax)\n",
    "#plt.xlim(-400,400)\n",
    "#ax.set_yscale('log')\n",
    "dt_data=df_data_cosmic.query('pe_total>50')['dt'].ravel()\n",
    "print dt_data.min(),dt_data.max()\n",
    "yval,xbins = np.histogram(dt_data,bins=3,range=(-1600,3200))\n",
    "\n",
    "nevents=len(df_data_cosmic.groupby(['run','subrun','event']))\n",
    "ctr_per_frame=[]\n",
    "ctr_per_frame_err=[]\n",
    "for x in yval:\n",
    "    ctr_per_frame.append(float(x) / nevents)\n",
    "    ctr_per_frame_err.append(np.sqrt(x)/nevents)\n",
    "    \n",
    "plt.errorbar(np.arange(0,3,1),ctr_per_frame,yerr=ctr_per_frame_err,marker='o', linestyle='--',color='blue')\n",
    "plt.xlim(-.5,2.5)\n",
    "plt.ylim(0,10)\n",
    "plt.xlabel('Frame Number w.r.t. Trigger',fontsize=20)\n",
    "plt.ylabel('OpFlash Counts',fontsize=20)\n",
    "plt.tick_params(labelsize=20)\n",
    "plt.grid()\n",
    "plt.title('Data OpFlash (> 50 P.E.) Counts per Frame',fontsize=20)\n",
    "plt.show()"
   ]
  },
  {
   "cell_type": "code",
   "execution_count": null,
   "metadata": {
    "collapsed": true
   },
   "outputs": [],
   "source": []
  }
 ],
 "metadata": {
  "kernelspec": {
   "display_name": "Python 2",
   "language": "python",
   "name": "python2"
  },
  "language_info": {
   "codemirror_mode": {
    "name": "ipython",
    "version": 2
   },
   "file_extension": ".py",
   "mimetype": "text/x-python",
   "name": "python",
   "nbconvert_exporter": "python",
   "pygments_lexer": "ipython2",
   "version": "2.7.6"
  }
 },
 "nbformat": 4,
 "nbformat_minor": 0
}
